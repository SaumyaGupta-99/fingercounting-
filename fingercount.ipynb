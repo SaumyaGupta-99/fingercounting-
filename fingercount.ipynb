{
 "cells": [
  {
   "cell_type": "code",
   "execution_count": 8,
   "metadata": {},
   "outputs": [],
   "source": [
    "import cv2\n",
    "import imutils\n",
    "import numpy as np\n",
    "bg=None"
   ]
  },
  {
   "cell_type": "code",
   "execution_count": 9,
   "metadata": {},
   "outputs": [],
   "source": [
    "def run_avg(image,aweight):\n",
    "    global bg\n",
    "    if bg is None:\n",
    "        bg=image.copy().astype(\"float\")\n",
    "        return\n",
    "    cv2.accumulateWeighted(image,bg,aweight)"
   ]
  },
  {
   "cell_type": "code",
   "execution_count": 10,
   "metadata": {},
   "outputs": [],
   "source": [
    "def segment (image,threshold=25):\n",
    "    global bg\n",
    "    diff=cv2.absdiff(bg.astype(\"uint8\"),image)\n",
    "    thresholded=cv2.threshold(diff,threshold,255,cv2.THRESH_BINARY)[1]\n",
    "    cnts,hierachy=cv2.findContours(thresholded,cv2.RETR_TREE,cv2.CHAIN_APPROX_SIMPLE)\n",
    "\n",
    "    if len(cnts)==0:\n",
    "        return\n",
    "    else:\n",
    "        segmented = max(cnts, key=cv2.contourArea)\n",
    "        return(thresholded,segmented)"
   ]
  },
  {
   "cell_type": "code",
   "execution_count": 11,
   "metadata": {},
   "outputs": [],
   "source": [
    "from sklearn.metrics import pairwise\n",
    "def countfingers(thresholded,segmented):\n",
    "    chull=cv2.convexHull(segmented)\n",
    "    extreme_top=tuple(chull[chull[:,:,1].argmin()][0])\n",
    "    extreme_bottom=tuple(chull[chull[:,:,1].argmax()][0])\n",
    "    extreme_left=tuple(chull[chull[:,:,0].argmin()][0])\n",
    "    extreme_right=tuple(chull[chull[:,:,0].argmax()][0])\n",
    "    cX = int((extreme_left[0] + extreme_right[0]) / 2)\n",
    "    cY = int((extreme_top[1] + extreme_bottom[1]) / 2)\n",
    "    distance = pairwise.euclidean_distances([(cX, cY)], Y=[extreme_left, extreme_right, extreme_top, extreme_bottom])[0]\n",
    "    maximum_distance = distance[distance.argmax()]\n",
    "    radius = int(0.8 * maximum_distance)\n",
    "    circumference = (2 * np.pi * radius)\n",
    "    circular_roi = np.zeros(thresholded.shape[:2], dtype=\"uint8\")\n",
    "    cv2.circle(circular_roi, (cX, cY), radius, 255, 1)\n",
    "    circular_roi = cv2.bitwise_and(thresholded, thresholded, mask=circular_roi)\n",
    "    cnts,hierachy = cv2.findContours(circular_roi.copy(), cv2.RETR_EXTERNAL, cv2.CHAIN_APPROX_NONE)\n",
    "    count = 0\n",
    "    for c in cnts:\n",
    "        (x, y, w, h) = cv2.boundingRect(c)\n",
    "        if ((cY + (cY * 0.25)) > (y + h)) and ((circumference * 0.25) > c.shape[0]):\n",
    "            count += 1\n",
    "    return count"
   ]
  },
  {
   "cell_type": "code",
   "execution_count": 13,
   "metadata": {},
   "outputs": [],
   "source": [
    "if __name__=='__main__':\n",
    "    aweight=0.5\n",
    "    top,right,bottom,left=10,350,225,590\n",
    "    num_frames=0\n",
    "    num_fingers=0\n",
    "    min_YCrCb = np.array([0,133,77],np.uint8)\n",
    "    max_YCrCb = np.array([255,173,127],np.uint8)\n",
    "    font = cv2.FONT_HERSHEY_SIMPLEX\n",
    "    cv2.namedWindow('Camera Output')\n",
    "    videoFrame = cv2.VideoCapture(0)\n",
    "    while(True):\n",
    "        readSucsess, sourceImage = videoFrame.read()\n",
    "        skin = cv2.flip(sourceImage, 1)\n",
    "#         imageYCrCb = cv2.cvtColor(sourceImage,cv2.COLOR_BGR2YCR_CB)\n",
    "#         skinRegion = cv2.inRange(imageYCrCb,min_YCrCb,max_YCrCb)\n",
    "#         skinRegion = cv2.GaussianBlur(skinRegion, (3, 3), 0)\n",
    "#         skin = cv2.bitwise_and(sourceImage, sourceImage, mask = skinRegion)\n",
    "        clone=skin.copy()\n",
    "        (height,width)=skin.shape[:2]\n",
    "        roi=skin[top:bottom,right:left]\n",
    "        gray=cv2.cvtColor(roi,cv2.COLOR_BGR2GRAY)\n",
    "        gray=cv2.GaussianBlur(gray,(7,7),0)\n",
    "        if num_frames<30:\n",
    "            run_avg(gray,aweight)\n",
    "        else:\n",
    "            hand=segment(gray)\n",
    "            if hand is not None:\n",
    "                (thresholded,segmented)=hand\n",
    "                cv2.drawContours(clone,[segmented+(right,top)],-1,(0,0,255))\n",
    "                fingers = countfingers(thresholded, segmented)\n",
    "                cv2.putText(clone, str(fingers), (70, 45), cv2.FONT_HERSHEY_SIMPLEX, 1, (0,0,255), 2)\n",
    "                cv2.imshow(\"Thesholded\", thresholded)\n",
    "        cv2.rectangle(clone,(left,top),(right,bottom),(0,255,0),2)\n",
    "        num_frames+=1\n",
    "        cv2.imshow(\"Video Feed\",clone)\n",
    "        keypress=cv2.waitKey(1) & 0xFF\n",
    "        if keypress== ord('q'):\n",
    "            break\n",
    "videoFrame.release()\n",
    "cv2.destroyAllWindows()"
   ]
  },
  {
   "cell_type": "code",
   "execution_count": 1,
   "metadata": {},
   "outputs": [],
   "source": [
    "#skin detection\n",
    "import cv2\n",
    "import numpy\n",
    "min_YCrCb = numpy.array([0,133,77],numpy.uint8)\n",
    "max_YCrCb = numpy.array([255,173,127],numpy.uint8)\n",
    "font = cv2.FONT_HERSHEY_SIMPLEX\n",
    "cv2.namedWindow('Camera Output')\n",
    "videoFrame = cv2.VideoCapture(0)\n",
    "while True: \n",
    "    readSucsess, sourceImage = videoFrame.read()\n",
    "    sourceImage = cv2.flip(sourceImage, 1)\n",
    "    imageYCrCb = cv2.cvtColor(sourceImage,cv2.COLOR_BGR2YCR_CB)\n",
    "    skinRegion = cv2.inRange(imageYCrCb,min_YCrCb,max_YCrCb)\n",
    "    skinRegion = cv2.GaussianBlur(skinRegion, (3, 3), 0)\n",
    "    skin = cv2.bitwise_and(sourceImage, sourceImage, mask = skinRegion)\n",
    "    cv2.imshow('Camera Output',skin)\n",
    "    keypress=cv2.waitKey(1) & 0xFF\n",
    "    if keypress== ord('q'):\n",
    "        break\n",
    "cv2.destroyWindow('Camera Output')\n",
    "videoFrame.release()"
   ]
  },
  {
   "cell_type": "code",
   "execution_count": null,
   "metadata": {},
   "outputs": [],
   "source": []
  }
 ],
 "metadata": {
  "kernelspec": {
   "display_name": "Python 3",
   "language": "python",
   "name": "python3"
  },
  "language_info": {
   "codemirror_mode": {
    "name": "ipython",
    "version": 3
   },
   "file_extension": ".py",
   "mimetype": "text/x-python",
   "name": "python",
   "nbconvert_exporter": "python",
   "pygments_lexer": "ipython3",
   "version": "3.7.0"
  }
 },
 "nbformat": 4,
 "nbformat_minor": 2
}
